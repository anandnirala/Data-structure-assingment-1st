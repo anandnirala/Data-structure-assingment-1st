{
 "cells": [
  {
   "cell_type": "raw",
   "id": "636acf89-9f58-4d33-aff2-57a670098b18",
   "metadata": {},
   "source": [
    "1.Discuss string slicing and provide examples.\n",
    "String slicing is a technique in Python that allows you to extract a portion of a string using a special syntax. It lets you access a substring by specifying a start index, an end index, and an optional step.\n",
    "•  start: The index where the slice begins (inclusive).\n",
    "•  end: The index where the slice ends (exclusive).\n",
    "•  step: The step size, or how many characters to skip between each character (optional)\n"
   ]
  },
  {
   "cell_type": "code",
   "execution_count": 2,
   "id": "981a7968-ad4d-4b5b-ab86-d5f6005b07fc",
   "metadata": {},
   "outputs": [
    {
     "name": "stdout",
     "output_type": "stream",
     "text": [
      "Hello\n"
     ]
    }
   ],
   "source": [
    "#example of string sclicing\n",
    "text = \"Hello, World!\"\n",
    "print(text[0:5] ) #Here we are sclicking form 1st index to 4."
   ]
  },
  {
   "cell_type": "code",
   "execution_count": 4,
   "id": "0d8c00f3-3b6e-4851-abfd-d4440f818310",
   "metadata": {},
   "outputs": [
    {
     "name": "stdout",
     "output_type": "stream",
     "text": [
      "orld!\n"
     ]
    }
   ],
   "source": [
    "#reverse methods \n",
    "text = \"Hello, World!\"\n",
    "print(text[-5:] )"
   ]
  },
  {
   "cell_type": "code",
   "execution_count": null,
   "id": "8e15afdb-9e2f-42da-8a75-30a004908393",
   "metadata": {},
   "outputs": [],
   "source": [
    "2. Explain the key features of lists in Python.\n",
    "•\tA list is one of the most versatile and commonly used data structures in Python.\n",
    "•\tIt is an ordered collection of elements that can be of any data type, such as integers, strings, or other lists.\n",
    "•\tLists are mutable, which means you can change their contents after creation\n",
    "•\tYou can access elements by their index, and you can perform various operations like adding, removing, or sorting elements.\n"
   ]
  },
  {
   "cell_type": "raw",
   "id": "cc4e8c70-26b6-4ecb-ad0b-1ea6f0701e40",
   "metadata": {},
   "source": [
    "3. Describe how to access, modify, and delete elements in a list with examples.\n",
    "You can access elements in a list by using indexing. List indexing starts at 0 for the first element. You can also use negative indices, where -1 refers to the last element, -2 to the second-last,\n"
   ]
  },
  {
   "cell_type": "code",
   "execution_count": 6,
   "id": "7e785ab8-b6c2-4b39-b4c8-53db25d8b076",
   "metadata": {},
   "outputs": [],
   "source": [
    "#example of access elements in list\n",
    "my_list = [ \"apple\", \"banana\", \"orange\", \"papaya\"]"
   ]
  },
  {
   "cell_type": "code",
   "execution_count": 7,
   "id": "63c58f65-2810-4ea9-ad76-50c0f499d198",
   "metadata": {},
   "outputs": [
    {
     "data": {
      "text/plain": [
       "['apple', 'banana', 'orange', 'papaya']"
      ]
     },
     "execution_count": 7,
     "metadata": {},
     "output_type": "execute_result"
    }
   ],
   "source": [
    "my_list"
   ]
  },
  {
   "cell_type": "code",
   "execution_count": 8,
   "id": "229ff72f-c721-44a9-8178-0e31f6e7dce9",
   "metadata": {},
   "outputs": [
    {
     "name": "stdout",
     "output_type": "stream",
     "text": [
      "papaya\n"
     ]
    }
   ],
   "source": [
    "#to access>> papaya\n",
    "print(my_list[-1])"
   ]
  },
  {
   "cell_type": "code",
   "execution_count": 11,
   "id": "1335f443-f3d6-4112-ba55-bc732d70f0c8",
   "metadata": {},
   "outputs": [
    {
     "name": "stdout",
     "output_type": "stream",
     "text": [
      "['apple', 'dates', 'orange', 'papaya']\n"
     ]
    }
   ],
   "source": [
    "#To modify banana in dates\n",
    "my_list[1] = \"dates\"\n",
    "print(my_list)"
   ]
  },
  {
   "cell_type": "code",
   "execution_count": 12,
   "id": "2859c4ba-7505-4390-9a13-c186b5b95055",
   "metadata": {},
   "outputs": [
    {
     "name": "stdout",
     "output_type": "stream",
     "text": [
      "['apple', 'dates', 'papaya']\n"
     ]
    }
   ],
   "source": [
    "#to delete orange \n",
    "#first method \n",
    "del my_list[-2]\n",
    "print(my_list)"
   ]
  },
  {
   "cell_type": "code",
   "execution_count": 13,
   "id": "8b947003-ea4e-4cc6-99e1-15faafdd2d2a",
   "metadata": {},
   "outputs": [
    {
     "name": "stdout",
     "output_type": "stream",
     "text": [
      "['apple', 'dates']\n"
     ]
    }
   ],
   "source": [
    "#to delete papaya\n",
    "#2nd method \n",
    "my_list.remove(\"papaya\")\n",
    "print(my_list)"
   ]
  },
  {
   "cell_type": "code",
   "execution_count": 14,
   "id": "5becf330-3957-4445-bd1d-8b8458781876",
   "metadata": {},
   "outputs": [
    {
     "name": "stdout",
     "output_type": "stream",
     "text": [
      "['apple']\n"
     ]
    }
   ],
   "source": [
    "#3rd method>>>(lats element)\n",
    "my_list.pop()\n",
    "print(my_list)"
   ]
  },
  {
   "cell_type": "raw",
   "id": "f41bacdb-5378-41f9-8357-2dec67b2c31a",
   "metadata": {},
   "source": [
    "4. Compare and contrast tuples and lists with examples.\n",
    "In Python, both tuples and lists are used to store collections of items, but they have important differences in terms of mutability, syntax, and usage. Below is a comparison of the two data types with examples to illustrate their characteristics.\n",
    "1. Mutability\n",
    "•\tLists are mutable, meaning their elements can be modified after creation. You can add, remove, or change elements in a list.\n",
    "•\tTuples are immutable, meaning once they are created, their contents cannot be changed. You cannot add, remove, or modify elements in a tuple.\n"
   ]
  },
  {
   "cell_type": "code",
   "execution_count": 15,
   "id": "d451d4ec-d1a7-4643-ada3-bf646a4fdc45",
   "metadata": {},
   "outputs": [
    {
     "name": "stdout",
     "output_type": "stream",
     "text": [
      "[100, 2, 3, 4]\n"
     ]
    }
   ],
   "source": [
    "#list are mutable \n",
    "my_lists = [1, 2, 3, 4]\n",
    "my_lists[0] = 100 \n",
    "print(my_lists)"
   ]
  },
  {
   "cell_type": "code",
   "execution_count": 17,
   "id": "26fd50b0-ab74-42c8-b70a-ac7f7ecbd197",
   "metadata": {},
   "outputs": [
    {
     "ename": "TypeError",
     "evalue": "'tuple' object does not support item assignment",
     "output_type": "error",
     "traceback": [
      "\u001b[1;31m---------------------------------------------------------------------------\u001b[0m",
      "\u001b[1;31mTypeError\u001b[0m                                 Traceback (most recent call last)",
      "Cell \u001b[1;32mIn[17], line 3\u001b[0m\n\u001b[0;32m      1\u001b[0m \u001b[38;5;66;03m#otherthan tuples are immutable \u001b[39;00m\n\u001b[0;32m      2\u001b[0m my_tuple \u001b[38;5;241m=\u001b[39m (\u001b[38;5;241m1\u001b[39m, \u001b[38;5;241m2\u001b[39m, \u001b[38;5;241m3\u001b[39m)\n\u001b[1;32m----> 3\u001b[0m my_tuple[\u001b[38;5;241m0\u001b[39m] \u001b[38;5;241m=\u001b[39m \u001b[38;5;241m100\u001b[39m\n",
      "\u001b[1;31mTypeError\u001b[0m: 'tuple' object does not support item assignment"
     ]
    }
   ],
   "source": [
    "#otherthan tuples are immutable \n",
    "my_tuple = (1, 2, 3)\n",
    "my_tuple[0] = 100 #its throw an error\n"
   ]
  },
  {
   "cell_type": "markdown",
   "id": "5a27fabe-4d54-4432-b5c0-1a38ab7112d9",
   "metadata": {},
   "source": [
    "2. Syntax\n",
    "Lists are created using square brackets [].\n",
    "\n",
    "Tuples are created using parentheses (). A tuple with only one element requires a trailing comma , to distinguish it from a regular expression in parentheses."
   ]
  },
  {
   "cell_type": "code",
   "execution_count": 18,
   "id": "4c5f3158-25be-46b2-a1c0-aa39c74e0728",
   "metadata": {},
   "outputs": [
    {
     "data": {
      "text/plain": [
       "list"
      ]
     },
     "execution_count": 18,
     "metadata": {},
     "output_type": "execute_result"
    }
   ],
   "source": [
    "#list \n",
    "my_lists = [1, 2, 3, 4]\n",
    "type(my_lists)"
   ]
  },
  {
   "cell_type": "code",
   "execution_count": 20,
   "id": "6779dc1d-4280-442f-9ad2-c696e2411993",
   "metadata": {},
   "outputs": [
    {
     "data": {
      "text/plain": [
       "tuple"
      ]
     },
     "execution_count": 20,
     "metadata": {},
     "output_type": "execute_result"
    }
   ],
   "source": [
    "#tuples\n",
    "my_tuple = (1, 2, 3)\n",
    "type(my_tuple)"
   ]
  },
  {
   "cell_type": "raw",
   "id": "6a1cb90e-73a4-4f85-8d69-a0a9208b669b",
   "metadata": {},
   "source": [
    "5.\tDescribe the key features of sets and provide examples of their use.\n",
    "A set is a fundamental concept in mathematics and a versatile data structure in computer science. It represents a collection of distinct elements that do not have any particular order.\n",
    "•\tUniqueness of elements\n",
    "•\tUnordered\n",
    "•\tNo Duplicate Element\n",
    "•\tMathematical operations\n",
    "•\tNo Slicing and Indexing\n"
   ]
  },
  {
   "cell_type": "code",
   "execution_count": 24,
   "id": "ed3e2bf9-b73d-4c65-8040-6d971f6039c4",
   "metadata": {},
   "outputs": [
    {
     "name": "stdout",
     "output_type": "stream",
     "text": [
      "{1, 2, 3, 'Brinjal', 'apple'}\n"
     ]
    }
   ],
   "source": [
    "#use case\n",
    "List1 = {1, 2, 3, \"Brinjal\", \"Brinjal\", \"apple\", \"apple\", \"Brinjal\"}\n",
    "print(List1)"
   ]
  },
  {
   "cell_type": "code",
   "execution_count": 25,
   "id": "c090c5b6-9653-4bf5-96d7-8b7a9b087685",
   "metadata": {},
   "outputs": [
    {
     "data": {
      "text/plain": [
       "set"
      ]
     },
     "execution_count": 25,
     "metadata": {},
     "output_type": "execute_result"
    }
   ],
   "source": [
    "type(List1)"
   ]
  },
  {
   "cell_type": "raw",
   "id": "375aa214-72ec-4ed5-b11d-bbd32adca57c",
   "metadata": {},
   "source": [
    "6. Discuss the use cases of tuples and sets in Python programming.\n",
    "¸ Tuples\n",
    "Tuples are similar to lists, but they are immutable.  Once you create a tuple, you cannot change its content. This immutability makes tuples useful for situations where you want to ensure that the data remains constant.  They are often used to represent collections of related values.\n",
    "\n",
    "Sets\n",
    " Sets are unordered collections of unique elements. They are useful when you need to work with distinct items and perform set operations like union, intersection, and difference.£   Sets are mutable, so you can add and remove elements, but the elements t\n"
   ]
  },
  {
   "cell_type": "code",
   "execution_count": 26,
   "id": "6a9b947e-644b-48a3-9b31-a7a3f7aee31b",
   "metadata": {},
   "outputs": [
    {
     "name": "stdout",
     "output_type": "stream",
     "text": [
      "Name: Arun, Age: 21, Grade: A\n"
     ]
    }
   ],
   "source": [
    "#use case >>>To creat student parmanent info\n",
    "def get_student_info():\n",
    "    name = \"Arun\"\n",
    "    age = 21\n",
    "    grade = \"A\"\n",
    "    return name, age, grade\n",
    "\n",
    "\n",
    "student_info = get_student_info()\n",
    "\n",
    "name, age, grade = student_info\n",
    "\n",
    "print(f\"Name: {name}, Age: {age}, Grade: {grade}\")\n"
   ]
  },
  {
   "cell_type": "code",
   "execution_count": 27,
   "id": "05ba7f91-aee5-4450-a3d5-0d4a1a09fae7",
   "metadata": {},
   "outputs": [
    {
     "name": "stdout",
     "output_type": "stream",
     "text": [
      "{'bananas', 'apples', 'milk'}\n"
     ]
    }
   ],
   "source": [
    "#use case of sets >>>>creating a shopping list\n",
    "# Create an empty set for shopping items\n",
    "\n",
    "shopping_list = set()\n",
    "\n",
    "# Add items to the shopping list\n",
    "\n",
    "shopping_list.add(\"apples\")\n",
    "\n",
    "shopping_list.add(\"bananas\")\n",
    "\n",
    "shopping_list.add(\"milk\")\n",
    "\n",
    "print(shopping_list)"
   ]
  },
  {
   "cell_type": "markdown",
   "id": "3bc0d344-6d1a-40fc-b4fe-2ee2c7a01beb",
   "metadata": {},
   "source": [
    "7. Describe how to add, modify, and delete items in a dictionary with examples.\n",
    "\n"
   ]
  },
  {
   "cell_type": "code",
   "execution_count": 28,
   "id": "65459b87-675a-4980-8894-334a9bc9f25b",
   "metadata": {},
   "outputs": [],
   "source": [
    "d = {\"name\":\"Ajay\", \"email\":\"aj@gmail.com\",\"contact\": 1234, \"name\": \"Bijay\"}"
   ]
  },
  {
   "cell_type": "code",
   "execution_count": 29,
   "id": "37c83fd3-4272-4684-ad68-f4b2a604b2df",
   "metadata": {},
   "outputs": [
    {
     "data": {
      "text/plain": [
       "dict"
      ]
     },
     "execution_count": 29,
     "metadata": {},
     "output_type": "execute_result"
    }
   ],
   "source": [
    "type(d)"
   ]
  },
  {
   "cell_type": "code",
   "execution_count": 30,
   "id": "8195adf5-5b13-425d-9d04-c02c3033b8aa",
   "metadata": {},
   "outputs": [
    {
     "name": "stdout",
     "output_type": "stream",
     "text": [
      "{'name': 'Bijay', 'email': 'aj@gmail.com', 'contact': 1234}\n"
     ]
    }
   ],
   "source": [
    "print(d)"
   ]
  },
  {
   "cell_type": "code",
   "execution_count": 32,
   "id": "950bbdd0-e489-4898-a08f-fffbfc7d3964",
   "metadata": {},
   "outputs": [
    {
     "name": "stdout",
     "output_type": "stream",
     "text": [
      "{'name': 'Bijay', 'email': 'aj@gmail.com', 'contact': 1234, 'address': 'banglore'}\n"
     ]
    }
   ],
   "source": [
    "#to add item \n",
    "d[\"address\"] = \"banglore\"\n",
    "print(d)"
   ]
  },
  {
   "cell_type": "code",
   "execution_count": 33,
   "id": "c5e846d7-1d61-4e6f-baa1-3c6d8f9be8aa",
   "metadata": {},
   "outputs": [],
   "source": [
    "#to modify item \n",
    "d[\"name\"] = \"Anand\""
   ]
  },
  {
   "cell_type": "code",
   "execution_count": 34,
   "id": "e4584df7-9cdc-49c9-aa3b-0d322c74dc6f",
   "metadata": {},
   "outputs": [
    {
     "name": "stdout",
     "output_type": "stream",
     "text": [
      "{'name': 'Anand', 'email': 'aj@gmail.com', 'contact': 1234, 'address': 'banglore'}\n"
     ]
    }
   ],
   "source": [
    "print(d)"
   ]
  },
  {
   "cell_type": "code",
   "execution_count": 36,
   "id": "afa46983-89b4-4e6a-afd9-a33224889fe0",
   "metadata": {},
   "outputs": [
    {
     "name": "stdout",
     "output_type": "stream",
     "text": [
      "{'name': 'Anand', 'email': 'aj@gmail.com', 'address': 'banglore'}\n"
     ]
    }
   ],
   "source": [
    "#to delete\n",
    "#1st method \n",
    "del d[\"contact\"]\n",
    "print(d)"
   ]
  },
  {
   "cell_type": "code",
   "execution_count": 40,
   "id": "c817c6b1-b64f-4ed6-9b7d-69ef6f461949",
   "metadata": {},
   "outputs": [
    {
     "data": {
      "text/plain": [
       "{'name': 'Anand', 'address': 'banglore'}"
      ]
     },
     "execution_count": 40,
     "metadata": {},
     "output_type": "execute_result"
    }
   ],
   "source": [
    "d"
   ]
  },
  {
   "cell_type": "code",
   "execution_count": 41,
   "id": "a08c916e-d8e2-4a02-a025-3f0e93332e92",
   "metadata": {},
   "outputs": [
    {
     "name": "stdout",
     "output_type": "stream",
     "text": [
      "{'address': 'banglore'}\n"
     ]
    }
   ],
   "source": [
    "#to delete \n",
    "#2nd method\n",
    "d.pop(\"name\")\n",
    "print(d)"
   ]
  },
  {
   "cell_type": "raw",
   "id": "4cdb9cfd-d571-4b90-8618-50db2b0a6a6b",
   "metadata": {},
   "source": [
    "8. Discuss the importance of dictionary keys being immutable and provide examples.\n",
    "•\tNumbers\n",
    "•\tStrings\n",
    "•\tTuples\n",
    "•\tfrozenset\n"
   ]
  },
  {
   "cell_type": "code",
   "execution_count": 45,
   "id": "a60093d1-dc0d-48b3-a537-04409e2e438a",
   "metadata": {},
   "outputs": [
    {
     "name": "stdout",
     "output_type": "stream",
     "text": [
      "{1: 'one'}\n"
     ]
    }
   ],
   "source": [
    "#numbers\n",
    "my_dict ={1: \"one\"}\n",
    "print(my_dict)"
   ]
  },
  {
   "cell_type": "code",
   "execution_count": 48,
   "id": "0ab5a2a8-73ae-4c24-bcc6-3469ec63f2cd",
   "metadata": {},
   "outputs": [
    {
     "name": "stdout",
     "output_type": "stream",
     "text": [
      "{'name': 'anand'}\n"
     ]
    }
   ],
   "source": [
    "#strings\n",
    "my_dict2 ={\"name\" : \"anand\"}\n",
    "print(my_dict2)"
   ]
  },
  {
   "cell_type": "code",
   "execution_count": 50,
   "id": "a4435455-866a-4cb5-b1b9-44d493937da0",
   "metadata": {},
   "outputs": [
    {
     "name": "stdout",
     "output_type": "stream",
     "text": [
      "{('apple', 'banana'): 'fruits'}\n"
     ]
    }
   ],
   "source": [
    "#tuples\n",
    "my_dict3 ={(\"apple\", \"banana\"): \"fruits\"}\n",
    "print(my_dict3)"
   ]
  },
  {
   "cell_type": "code",
   "execution_count": 51,
   "id": "b81e9c10-98ee-4a76-a25e-d8530852662f",
   "metadata": {},
   "outputs": [
    {
     "name": "stdout",
     "output_type": "stream",
     "text": [
      "{frozenset({1, 2, 3}): 'frozen set'}\n"
     ]
    }
   ],
   "source": [
    "#Frozensets\n",
    "my_dict4 = {frozenset([1, 2, 3]): 'frozen set'}\n",
    "print(my_dict4)\n"
   ]
  },
  {
   "cell_type": "raw",
   "id": "d9ee9716-5e17-4f84-95b0-26b3f2af0f59",
   "metadata": {},
   "source": [
    "THANK YOU \n",
    "\n",
    "          END OF ASSIGNMENT"
   ]
  }
 ],
 "metadata": {
  "kernelspec": {
   "display_name": "Python 3 (ipykernel)",
   "language": "python",
   "name": "python3"
  },
  "language_info": {
   "codemirror_mode": {
    "name": "ipython",
    "version": 3
   },
   "file_extension": ".py",
   "mimetype": "text/x-python",
   "name": "python",
   "nbconvert_exporter": "python",
   "pygments_lexer": "ipython3",
   "version": "3.12.4"
  }
 },
 "nbformat": 4,
 "nbformat_minor": 5
}
